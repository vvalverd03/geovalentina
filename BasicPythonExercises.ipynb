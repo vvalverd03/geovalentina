{
 "cells": [
  {
   "cell_type": "code",
   "execution_count": 1,
   "id": "02426fd1-c5d2-4ffa-b34e-7053d3cf26a7",
   "metadata": {},
   "outputs": [
    {
     "name": "stdout",
     "output_type": "stream",
     "text": [
      "a is an <class 'int'>\n",
      "b is a <class 'float'>\n",
      "c is a <class 'float'>\n",
      "a / b is 1.0\n",
      "5 / 4 is 1.25\n",
      "but 5 // 4 is 1\n",
      "and 5 % 4 is 1\n"
     ]
    }
   ],
   "source": [
    "a = 2 + 2\n",
    "b = 2.0 + 2.0\n",
    "c = a + b\n",
    "\n",
    "print(f'a is an {type(a)}')\n",
    "print(f'b is a {type(b)}')\n",
    "print(f'c is a {type(c)}')\n",
    "print(f'a / b is {a / b}')\n",
    "print(f'5 / 4 is {5 / 4}')\n",
    "print(f'but 5 // 4 is {5 // 4}')\n",
    "print(f'and 5 % 4 is {5 % 4}')"
   ]
  },
  {
   "cell_type": "code",
   "execution_count": 2,
   "id": "e579502e-7b90-4e0b-bd53-2568a90df7e2",
   "metadata": {},
   "outputs": [
    {
     "name": "stdout",
     "output_type": "stream",
     "text": [
      "by index:\n",
      " 0 --> 1,\n",
      "-1 --> 9,\n",
      " 4 --> 5\n",
      "string item at 4 -->  j\n",
      "\n",
      "slices:\n",
      "[3, 4, 5]\n",
      "[9]\n",
      "(3, 4, 5)\n",
      "neushorn?\n"
     ]
    }
   ],
   "source": [
    "# a list\n",
    "a_list = [1, 2, 3, 4, 5, 6, 7, 8, 9]\n",
    "\n",
    "# a tuple\n",
    "a_tup = (1, 2, 3, 4, 5, 6, 7, 8, 9)\n",
    "\n",
    "# a string\n",
    "a_str = 'Wil je graag een neushorn?'\n",
    "\n",
    "# access by index\n",
    "a = a_list[0]\n",
    "b = a_list[-1]\n",
    "c = a_list[4]\n",
    "print(f'by index:\\n 0 --> {a},\\n-1 --> {b},\\n 4 --> {c}')\n",
    "\n",
    "# works fro strings to\n",
    "print('string item at 4 --> ', a_str[4])\n",
    "\n",
    "# you can slice a list or tuple(remember 0 indexed)\n",
    "print('\\nslices:')\n",
    "print(a_list[2:5])\n",
    "print(a_list[8:])\n",
    "print(a_tup[2:5])\n",
    "print(a_str[-9:])\n",
    "\n"
   ]
  },
  {
   "cell_type": "code",
   "execution_count": null,
   "id": "60999072-196d-4b40-92be-693cae6b02a7",
   "metadata": {},
   "outputs": [],
   "source": [
    "# a list\n",
    "a_list = [1, 2, 3, 4, 5, 6, 7, 8, 9]\n",
    "\n",
    "# a tuple\n",
    "a_tup = (1, 2, 3, 4, 5, 6, 7, 8, 9)"
   ]
  },
  {
   "cell_type": "code",
   "execution_count": null,
   "id": "e59f9bdf-71ce-43d7-86ad-3807e4542259",
   "metadata": {},
   "outputs": [],
   "source": [
    "a_list[3] = 99"
   ]
  },
  {
   "cell_type": "code",
   "execution_count": 3,
   "id": "2be506de-3e24-48e6-89b7-6447f243e932",
   "metadata": {},
   "outputs": [
    {
     "data": {
      "text/plain": [
       "[(0, 0), (0, 1), (0, 2), (1, 0), (1, 1), (1, 2), (2, 0), (2, 1), (2, 2)]"
      ]
     },
     "execution_count": 3,
     "metadata": {},
     "output_type": "execute_result"
    }
   ],
   "source": [
    "numbers = []\n",
    "for i in range(3):\n",
    "  for j in range(3):\n",
    "    numbers.append((i, j))\n",
    "\n",
    "numbers"
   ]
  },
  {
   "cell_type": "code",
   "execution_count": 4,
   "id": "ba68a0b8-3617-44c5-9e29-01fcdd679612",
   "metadata": {},
   "outputs": [
    {
     "ename": "SyntaxError",
     "evalue": "invalid syntax (1366129724.py, line 1)",
     "output_type": "error",
     "traceback": [
      "\u001b[1;36m  Cell \u001b[1;32mIn[4], line 1\u001b[1;36m\u001b[0m\n\u001b[1;33m    numbers = (i, j) for i in range (3) for j in range (3)\u001b[0m\n\u001b[1;37m                     ^\u001b[0m\n\u001b[1;31mSyntaxError\u001b[0m\u001b[1;31m:\u001b[0m invalid syntax\n"
     ]
    }
   ],
   "source": [
    "numbers = (i, j) for i in range (3) for j in range (3)\n",
    "numbers"
   ]
  },
  {
   "cell_type": "code",
   "execution_count": 6,
   "id": "0b90603e-7f07-46fe-a1cc-fc46ba597385",
   "metadata": {},
   "outputs": [
    {
     "data": {
      "text/plain": [
       "[(0, 0), (0, 1), (0, 2), (1, 0), (1, 1), (1, 2), (2, 0), (2, 1), (2, 2)]"
      ]
     },
     "execution_count": 6,
     "metadata": {},
     "output_type": "execute_result"
    }
   ],
   "source": [
    "numbers = [(i, j) for i in range (3) for j in range (3)]\n",
    "numbers"
   ]
  },
  {
   "cell_type": "code",
   "execution_count": 7,
   "id": "6388128a-ac40-435e-90b3-efa6f86975db",
   "metadata": {},
   "outputs": [
    {
     "ename": "SyntaxError",
     "evalue": "invalid syntax (1609185639.py, line 1)",
     "output_type": "error",
     "traceback": [
      "\u001b[1;36m  Cell \u001b[1;32mIn[7], line 1\u001b[1;36m\u001b[0m\n\u001b[1;33m    = [n**2 for n in a]\u001b[0m\n\u001b[1;37m    ^\u001b[0m\n\u001b[1;31mSyntaxError\u001b[0m\u001b[1;31m:\u001b[0m invalid syntax\n"
     ]
    }
   ],
   "source": [
    "= [n**2 for n in a]"
   ]
  },
  {
   "cell_type": "code",
   "execution_count": 8,
   "id": "0ce4bb36-da2a-4a80-b353-b6e24c03886a",
   "metadata": {},
   "outputs": [
    {
     "ename": "SyntaxError",
     "evalue": "invalid syntax (536785429.py, line 1)",
     "output_type": "error",
     "traceback": [
      "\u001b[1;36m  Cell \u001b[1;32mIn[8], line 1\u001b[1;36m\u001b[0m\n\u001b[1;33m    = (n**2 for n in a)\u001b[0m\n\u001b[1;37m    ^\u001b[0m\n\u001b[1;31mSyntaxError\u001b[0m\u001b[1;31m:\u001b[0m invalid syntax\n"
     ]
    }
   ],
   "source": [
    "= (n**2 for n in a)"
   ]
  },
  {
   "cell_type": "code",
   "execution_count": 9,
   "id": "d4a31705-ef4d-4f66-a8d2-60c47215696d",
   "metadata": {},
   "outputs": [
    {
     "name": "stdout",
     "output_type": "stream",
     "text": [
      "[1, 4, 9, 16, 25, 36, 49, 64, 81]\n",
      "is the same as\n",
      "[1, 4, 9, 16, 25, 36, 49, 64, 81]\n"
     ]
    }
   ],
   "source": [
    "a = [1, 2, 3, 4, 5, 6, 7, 8, 9]\n",
    "\n",
    "# use a loop to append squared values to new lists\n",
    "b = []\n",
    "for n in a:\n",
    "  b.append(n**2)\n",
    "\n",
    "# or, better, use a comprehension\n",
    "c = [n**2 for n in a]\n",
    "\n",
    "print(b)\n",
    "print('is the same as')\n",
    "print(c)"
   ]
  },
  {
   "cell_type": "code",
   "execution_count": 10,
   "id": "55c0fb01-2ac5-4992-bf7f-32236d258f15",
   "metadata": {},
   "outputs": [
    {
     "name": "stdout",
     "output_type": "stream",
     "text": [
      "2.6034592372457075\n"
     ]
    }
   ],
   "source": [
    "import numpy as np\n",
    "\n",
    "def root_mean_square(list_of_numbers):\n",
    "  rms = np.sqrt(\n",
    "    np.array([n**2 for n in list_of_numbers]).sum() /\n",
    "    len(list_of_numbers)\n",
    "    )\n",
    "\n",
    "  return rms\n",
    "\n",
    "l = [1.2, 3.3, 1.4, 1.4, 4.2]\n",
    "rms = root_mean_square(l)\n",
    "\n",
    "print(rms)"
   ]
  },
  {
   "cell_type": "code",
   "execution_count": 11,
   "id": "deba1662-3b85-43ff-9eb9-3b66801a31c8",
   "metadata": {},
   "outputs": [
    {
     "name": "stdout",
     "output_type": "stream",
     "text": [
      "This is boring!\n",
      "when will we get to the GIS stuff.\n",
      "😠😠😠\n",
      "\n",
      "Soon! Bear with me.\n"
     ]
    }
   ],
   "source": [
    "def complain():\n",
    "  print('This is boring!\\nwhen will we get to the GIS stuff.\\n\\U0001F620\\U0001F620\\U0001F620\\n\\nSoon! Bear with me.')\n",
    "\n",
    "complain()"
   ]
  },
  {
   "cell_type": "code",
   "execution_count": 12,
   "id": "784f73fa-ae9f-4ae3-841f-b61e150da7ea",
   "metadata": {},
   "outputs": [
    {
     "name": "stdout",
     "output_type": "stream",
     "text": [
      "toenails\n"
     ]
    }
   ],
   "source": [
    "zzz = print\n",
    "zzz('toenails')"
   ]
  },
  {
   "cell_type": "code",
   "execution_count": 13,
   "id": "4b820853-9ac8-4830-b3ac-a4e85840785c",
   "metadata": {},
   "outputs": [
    {
     "data": {
      "text/plain": [
       "['hyphens', 'are', 'everywhere', 'they', 'haunt', 'me', 'in', 'my', 'dreams']"
      ]
     },
     "execution_count": 13,
     "metadata": {},
     "output_type": "execute_result"
    }
   ],
   "source": [
    "s = 'hyphens-are-everywhere-they-haunt-me-in-my-dreams'\n",
    "s.split('-')"
   ]
  },
  {
   "cell_type": "code",
   "execution_count": 14,
   "id": "996db15a-baa6-4b31-9061-95211ce9d7af",
   "metadata": {},
   "outputs": [
    {
     "data": {
      "text/plain": [
       "[5.487822222222222, 2.36, 1.25]"
      ]
     },
     "execution_count": 14,
     "metadata": {},
     "output_type": "execute_result"
    }
   ],
   "source": [
    "l = [(4, 3, 2), (2, 2, 2), (1, 2, 3)]\n",
    "\n",
    "results = []\n",
    "\n",
    "for t in l:\n",
    "  results.append(\n",
    "    t[0] + t[1] - t[2] +\n",
    "    (t[0] * t[1] + t[2])**t[1] /\n",
    "    (t[1]**2 * 5**t[0])\n",
    "  )\n",
    "\n",
    "results"
   ]
  },
  {
   "cell_type": "code",
   "execution_count": 16,
   "id": "88e38791-d771-474f-881e-bfdc85094daa",
   "metadata": {},
   "outputs": [
    {
     "data": {
      "text/plain": [
       "[5.487822222222222, 2.36, 1.25]"
      ]
     },
     "execution_count": 16,
     "metadata": {},
     "output_type": "execute_result"
    }
   ],
   "source": [
    "l = [(4, 3, 2), (2, 2, 2), (1, 2, 3)]\n",
    "results = [(t[0] + t[1] - t[2] +\n",
    "    (t[0] * t[1] + t[2])**t[1] /\n",
    "    (t[1]**2 * 5**t[0])) for t in l]\n",
    "\n",
    "results"
   ]
  },
  {
   "cell_type": "code",
   "execution_count": 17,
   "id": "3214eeb7-8a6c-4a52-be08-2380cd6db89c",
   "metadata": {},
   "outputs": [
    {
     "data": {
      "text/plain": [
       "array([[1, 2, 3],\n",
       "       [4, 5, 6],\n",
       "       [7, 8, 9]])"
      ]
     },
     "execution_count": 17,
     "metadata": {},
     "output_type": "execute_result"
    }
   ],
   "source": [
    "import numpy as np\n",
    "\n",
    "nested_list = [[1, 2, 3], [4, 5, 6], [7, 8, 9]]\n",
    "\n",
    "np.array(nested_list)"
   ]
  },
  {
   "cell_type": "code",
   "execution_count": 18,
   "id": "19f80261-a8b3-4151-9fb1-7781d0b15093",
   "metadata": {},
   "outputs": [
    {
     "data": {
      "text/plain": [
       "array([[1, 2, 3],\n",
       "       [4, 5, 6],\n",
       "       [7, 8, 9]])"
      ]
     },
     "execution_count": 18,
     "metadata": {},
     "output_type": "execute_result"
    }
   ],
   "source": [
    "nested_list = [[1, 2, 3], [4, 5, 6], [7, 8, 9]]\n",
    "\n",
    "np.array(nested_list)"
   ]
  },
  {
   "cell_type": "code",
   "execution_count": 19,
   "id": "44ad4931-fecd-4959-91a0-9a0883e01e53",
   "metadata": {},
   "outputs": [
    {
     "name": "stdout",
     "output_type": "stream",
     "text": [
      "2.6034592372457075\n"
     ]
    }
   ],
   "source": [
    "def root_mean_square(list_of_numbers):\n",
    "  rms = np.sqrt(\n",
    "    np.array([n**2 for n in list_of_numbers]).sum() /\n",
    "    len(list_of_numbers)\n",
    "    )\n",
    "\n",
    "  return rms\n",
    "\n",
    "l = [1.2, 3.3, 1.4, 1.4, 4.2]\n",
    "rms = root_mean_square(l)\n",
    "\n",
    "print(rms)"
   ]
  },
  {
   "cell_type": "code",
   "execution_count": 20,
   "id": "632534af-a670-45bf-8537-5f957f52bb47",
   "metadata": {},
   "outputs": [
    {
     "data": {
      "text/plain": [
       "array([1, 2, 3])"
      ]
     },
     "execution_count": 20,
     "metadata": {},
     "output_type": "execute_result"
    }
   ],
   "source": [
    "import numpy as frogz_on_crack\n",
    "\n",
    "frogz_on_crack.array([1, 2, 3]) "
   ]
  },
  {
   "cell_type": "code",
   "execution_count": null,
   "id": "b871acef-190f-485e-be29-b6d8ccf13f22",
   "metadata": {},
   "outputs": [],
   "source": []
  }
 ],
 "metadata": {
  "kernelspec": {
   "display_name": "Python 3 (ipykernel)",
   "language": "python",
   "name": "python3"
  },
  "language_info": {
   "codemirror_mode": {
    "name": "ipython",
    "version": 3
   },
   "file_extension": ".py",
   "mimetype": "text/x-python",
   "name": "python",
   "nbconvert_exporter": "python",
   "pygments_lexer": "ipython3",
   "version": "3.13.2"
  }
 },
 "nbformat": 4,
 "nbformat_minor": 5
}
